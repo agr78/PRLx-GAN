{
 "cells": [
  {
   "cell_type": "code",
   "execution_count": null,
   "metadata": {},
   "outputs": [],
   "source": [
    "import matplotlib.pyplot as plt\n",
    "from PIL import Image\n",
    "import numpy as np\n",
    "\n",
    "image_path = '/path/to/synthetic/data/fakes025000.png'\n",
    "image = Image.open(image_path)\n",
    "sx = 64\n",
    "sy = sx\n",
    "nx = np.asarray(image).shape[0]/(sx//2)\n",
    "ny = np.asarray(image).shape[1]/(sy//2)\n",
    "I = np.asarray(image)\n",
    "n = 0\n",
    "ns = 0\n",
    "viz = 1\n",
    "np.random.seed(0)\n",
    "sample = 0\n",
    "\n",
    "for i in np.arange(nx):\n",
    "    for j in np.arange(ny):\n",
    "        for k in np.arange(3):\n",
    "            imt = I[int(i*nx):int((i+1)*nx),int(j*ny):int((j+1)*ny),k]\n",
    "            if imt.shape == ((sx,sy)):\n",
    "                if viz == 1:\n",
    "                    plt.imshow(imt,cmap='gray')\n",
    "                    plt.show()"
   ]
  }
 ],
 "metadata": {
  "language_info": {
   "name": "python"
  }
 },
 "nbformat": 4,
 "nbformat_minor": 2
}
